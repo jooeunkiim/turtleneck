{
 "cells": [
  {
   "cell_type": "markdown",
   "metadata": {},
   "source": [
    "# Use Augmentor to zoom in / out"
   ]
  },
  {
   "cell_type": "code",
   "execution_count": 1,
   "metadata": {},
   "outputs": [],
   "source": [
    "import matplotlib.pyplot as plt\n",
    "import numpy as np\n",
    "import torchvision\n",
    "import torch"
   ]
  },
  {
   "cell_type": "code",
   "execution_count": 6,
   "metadata": {},
   "outputs": [
    {
     "name": "stdout",
     "output_type": "stream",
     "text": [
      "Initialised with 1940 image(s) found.\n",
      "Output directory set to ./CK+YS+DH+JE/output."
     ]
    }
   ],
   "source": [
    "import Augmentor\n",
    "p = Augmentor.Pipeline(\"./CK+YS+DH+JE\") # directory with two folders, containing normal/abnormal images each"
   ]
  },
  {
   "cell_type": "code",
   "execution_count": 7,
   "metadata": {},
   "outputs": [
    {
     "name": "stderr",
     "output_type": "stream",
     "text": [
      "Processing <PIL.Image.Image image mode=RGB size=640x480 at 0x7FBAC8E37090>: 100%|██████████| 500/500 [00:01<00:00, 277.76 Samples/s]\n"
     ]
    }
   ],
   "source": [
    "p.zoom(probability=1, min_factor=0.8, max_factor=1.2) # zoom in\n",
    "p.sample(1500) # save augmented images to ./Pizza/output"
   ]
  },
  {
   "cell_type": "code",
   "execution_count": 5,
   "metadata": {},
   "outputs": [
    {
     "name": "stdout",
     "output_type": "stream",
     "text": [
      "Operations: 1\n",
      "\t0: Zoom (probability=0.5 min_factor=0.9 max_factor=1.1 )\n",
      "Images: 1940\n",
      "Classes: 2\n",
      "\tClass index: 0 Class label: Bad \n",
      "\tClass index: 1 Class label: Good \n",
      "Dimensions: 2\n",
      "\tWidth: 320 Height: 240\n",
      "\tWidth: 640 Height: 480\n",
      "Formats: 1\n",
      "\t JPEG\n",
      "\n",
      "You can remove operations using the appropriate index and the remove_operation(index) function.\n"
     ]
    }
   ],
   "source": [
    "p.status()"
   ]
  },
  {
   "cell_type": "markdown",
   "metadata": {},
   "source": [
    "# Convert from RGB to graysacle"
   ]
  },
  {
   "cell_type": "code",
   "execution_count": 18,
   "metadata": {},
   "outputs": [],
   "source": [
    "import cv2\n",
    "import os\n",
    "import shutil"
   ]
  },
  {
   "cell_type": "code",
   "execution_count": 19,
   "metadata": {},
   "outputs": [],
   "source": [
    "dr = \"./CK+YS+DH+JE\"\n",
    "path, dirs, files_g = next(os.walk(dr+\"/Good\"))\n",
    "path, dirs, files_b = next(os.walk(dr+\"/Bad\"))\n",
    "\n",
    "if os.path.isdir(dr+\"/Good_gray\"):\n",
    "    shutil.rmtree(dr+\"/Good_gray\")\n",
    "if os.path.isdir(dr+\"/Bad_gray\"):\n",
    "    shutil.rmtree(dr+\"/Bad_gray\")\n",
    "\n",
    "os.mkdir(dr+\"/Good_gray\")\n",
    "os.mkdir(dr+\"/Bad_gray\")\n",
    "\n",
    "for i in files_g:\n",
    "    image = cv2.imread(dr+\"/Good/\"+i)\n",
    "    gray = cv2.cvtColor(image, cv2.COLOR_BGR2GRAY)\n",
    "    cv2.imwrite(dr+\"/Good_gray/\"+i, gray)\n",
    "for i in files_b:\n",
    "    image = cv2.imread(dr+\"/Bad/\"+i)\n",
    "    gray = cv2.cvtColor(image, cv2.COLOR_BGR2GRAY)\n",
    "    cv2.imwrite(dr+\"/Bad_gray/\"+i, gray)"
   ]
  }
 ],
 "metadata": {
  "kernelspec": {
   "display_name": "Python 3",
   "language": "python",
   "name": "python3"
  },
  "language_info": {
   "codemirror_mode": {
    "name": "ipython",
    "version": 3
   },
   "file_extension": ".py",
   "mimetype": "text/x-python",
   "name": "python",
   "nbconvert_exporter": "python",
   "pygments_lexer": "ipython3",
   "version": "3.7.6"
  }
 },
 "nbformat": 4,
 "nbformat_minor": 4
}
