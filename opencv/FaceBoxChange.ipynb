{
 "cells": [
  {
   "cell_type": "code",
   "execution_count": 3,
   "metadata": {},
   "outputs": [],
   "source": [
    "import cv2\n",
    "import time\n",
    "import cvlib as cv\n",
    "import csv"
   ]
  },
  {
   "cell_type": "code",
   "execution_count": 4,
   "metadata": {},
   "outputs": [],
   "source": [
    "def howChange(t, oldX, oldY, X, Y):\n",
    "    oldA = (oldY[0] - oldX[0])*(oldY[1] - oldX[1])\n",
    "    A = (Y[0] - X[0])*(Y[1] - X[1])\n",
    "    print(f'{t} : {X} {Y} {A} {A/oldA}')\n",
    "    return [t, X[0], X[1], Y[0], Y[1], A, A/oldA]"
   ]
  },
  {
   "cell_type": "code",
   "execution_count": 5,
   "metadata": {},
   "outputs": [],
   "source": [
    "howMany = 3"
   ]
  },
  {
   "cell_type": "code",
   "execution_count": 10,
   "metadata": {
    "scrolled": true
   },
   "outputs": [
    {
     "name": "stdout",
     "output_type": "stream",
     "text": [
      "0 : (362, 293) (718, 715) 150232 1.0\n",
      "1 : (361, 296) (719, 717) 150718 1.0032349965386869\n",
      "2 : (361, 299) (717, 717) 148808 0.990521327014218\n"
     ]
    }
   ],
   "source": [
    "cap = cv2.VideoCapture(0)\n",
    "f = open('FaceBox.csv', 'w', encoding='utf-8', newline='')\n",
    "wr = csv.writer(f)\n",
    "colnames=['TIME', 'leftTop x', 'leftTop y', 'rightBottom x', 'rightBottom y', 'area', 'areaRatio'] \n",
    "wr.writerow(colnames)\n",
    "cnt = 0\n",
    "quitTime = 0\n",
    "old = []\n",
    "while cnt < howMany:\n",
    "    ret, image = cap.read()\n",
    "    faces, confidences = cv.detect_face(image)\n",
    "    try:\n",
    "        x = tuple(faces[0][0:2])\n",
    "        y = tuple(faces[0][2:4])\n",
    "        if cnt == 0:\n",
    "            old.append(x)\n",
    "            old.append(y)\n",
    "        wr.writerow(howChange(cnt, old[0], old[1], x, y))\n",
    "    #   image = cv2.rectangle(image,x,y,(0,0,255),3)\n",
    "    #   cv2.imshow(\"asdf\", image)\n",
    "    except:\n",
    "        time.sleep(1)\n",
    "        quitTime += 1\n",
    "        if quitTime > 10 :\n",
    "            cnt = howMany\n",
    "        else :\n",
    "            continue\n",
    "    cv2.waitKey(500)\n",
    "    cv2.destroyAllWindows()\n",
    "    cnt += 1\n",
    "cap.release()\n",
    "f.close()"
   ]
  },
  {
   "cell_type": "code",
   "execution_count": 11,
   "metadata": {},
   "outputs": [
    {
     "name": "stdout",
     "output_type": "stream",
     "text": [
      "0 : (408, 308) (769, 716) 147288 1.0\n",
      "1 : (423, 7) (751, 449) 144976 0.984302862419206\n",
      "2 : (461, 70) (787, 512) 144092 0.9783010156971376\n"
     ]
    }
   ],
   "source": [
    "cap = cv2.VideoCapture(0)\n",
    "cnt = 0\n",
    "old = []\n",
    "while cnt < howMany:\n",
    "    ret, image = cap.read()\n",
    "    faces, confidences = cv.detect_face(image)\n",
    "    x = tuple(faces[0][0:2])\n",
    "    y = tuple(faces[0][2:4])\n",
    "    if cnt == 0:\n",
    "        old.append(x)\n",
    "        old.append(y)\n",
    "    howChange(cnt, old[0], old[1], x, y)\n",
    "    image = cv2.rectangle(image,x,y,(0,0,255),3)\n",
    "    cv2.imshow(\"asdf\", image)\n",
    "    cv2.imwrite('images/'+str(cnt)+'.jpg', image)\n",
    "    cv2.waitKey(2000)\n",
    "    cv2.destroyAllWindows()\n",
    "    cnt += 1\n",
    "cap.release()"
   ]
  },
  {
   "cell_type": "code",
   "execution_count": null,
   "metadata": {},
   "outputs": [],
   "source": []
  },
  {
   "cell_type": "code",
   "execution_count": null,
   "metadata": {},
   "outputs": [],
   "source": []
  }
 ],
 "metadata": {
  "kernelspec": {
   "display_name": "Python 3",
   "language": "python",
   "name": "python3"
  },
  "language_info": {
   "codemirror_mode": {
    "name": "ipython",
    "version": 3
   },
   "file_extension": ".py",
   "mimetype": "text/x-python",
   "name": "python",
   "nbconvert_exporter": "python",
   "pygments_lexer": "ipython3",
   "version": "3.7.6"
  }
 },
 "nbformat": 4,
 "nbformat_minor": 4
}
