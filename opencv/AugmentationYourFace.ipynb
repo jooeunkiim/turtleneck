{
 "cells": [
  {
   "cell_type": "code",
   "execution_count": 8,
   "metadata": {},
   "outputs": [],
   "source": [
    "# you must install openCV2 & cvlib\n",
    "# Installing is so easy!! Go googling!!\n",
    "\n",
    "import cv2\n",
    "import time\n",
    "import cvlib as cv\n",
    "import os\n",
    "import numpy as np\n",
    "import Augmentor\n",
    "import random\n",
    "import shutil"
   ]
  },
  {
   "cell_type": "code",
   "execution_count": 9,
   "metadata": {},
   "outputs": [],
   "source": [
    "def horizontal_shift(img, ratio=0.0):\n",
    "    if ratio > 1 or ratio < 0:\n",
    "        print('Value should be less than 1 and greater than 0')\n",
    "        return img\n",
    "    ratio = random.uniform(-ratio, ratio)\n",
    "    h, w = img.shape[:2]\n",
    "    to_shift = w*ratio\n",
    "    if ratio > 0:\n",
    "        img = img[:, :int(w-to_shift), :]\n",
    "    if ratio < 0:\n",
    "        img = img[:, int(-1*to_shift):, :]\n",
    "    img = cv2.resize(img, (w, h), cv2.INTER_CUBIC)\n",
    "    return img\n",
    "\n",
    "def vertical_shift(img, ratio=0.0):\n",
    "    if ratio > 1 or ratio < 0:\n",
    "        print('Value should be less than 1 and greater than 0')\n",
    "        return img\n",
    "    ratio = random.uniform(-ratio, ratio)\n",
    "    h, w = img.shape[:2]\n",
    "    to_shift = h*ratio\n",
    "    if ratio > 0:\n",
    "        img = img[:int(h-to_shift), :, :]\n",
    "    if ratio < 0:\n",
    "        img = img[int(-1*to_shift):, :, :]\n",
    "    img = cv2.resize(img, (w, h), cv2.INTER_CUBIC)\n",
    "    return img\n",
    "\n",
    "def brightness(img, low, high):\n",
    "    value = random.uniform(low, high)\n",
    "    hsv = cv2.cvtColor(img, cv2.COLOR_BGR2HSV)\n",
    "    hsv = np.array(hsv, dtype = np.float64)\n",
    "    hsv[:,:,1] = hsv[:,:,1]*value\n",
    "    hsv[:,:,1][hsv[:,:,1]>255]  = 255\n",
    "    hsv[:,:,2] = hsv[:,:,2]*value \n",
    "    hsv[:,:,2][hsv[:,:,2]>255]  = 255\n",
    "    hsv = np.array(hsv, dtype = np.uint8)\n",
    "    img = cv2.cvtColor(hsv, cv2.COLOR_HSV2BGR)\n",
    "    return img"
   ]
  },
  {
   "cell_type": "code",
   "execution_count": 10,
   "metadata": {},
   "outputs": [],
   "source": [
    "def takePicture(path, howMany = 10, quitTime = 3):\n",
    "    cnt, qCnt = 1, 0\n",
    "    cap = cv2.VideoCapture(0)\n",
    "    cap.set(cv2.CAP_PROP_FRAME_WIDTH, 320)\n",
    "    cap.set(cv2.CAP_PROP_FRAME_HEIGHT, 240)\n",
    "    if not os.path.isdir(path):\n",
    "        os.mkdir(path)\n",
    "    while cnt <= howMany:\n",
    "        ret, image = cap.read()\n",
    "        faces, confidences = cv.detect_face(image)\n",
    "        if faces == []:\n",
    "            qCnt += 1\n",
    "            time.sleep(1)\n",
    "            if qCnt > quitTime:\n",
    "                print(\"You Out!\")\n",
    "                break\n",
    "            continue\n",
    "        cv2.imshow(\"asdf\", image)\n",
    "        cv2.imwrite(path+str(cnt)+'.jpg', image)\n",
    "        cv2.waitKey(500)\n",
    "        cv2.destroyAllWindows()\n",
    "        cnt += 1\n",
    "    cap.release()"
   ]
  },
  {
   "cell_type": "code",
   "execution_count": 11,
   "metadata": {},
   "outputs": [
    {
     "name": "stderr",
     "output_type": "stream",
     "text": [
      "Processing <PIL.Image.Image image mode=RGB size=320x240 at 0x25C8B7B0970>: 100%|█| 10/10 [00:00<00:00, 188.66 Samples/s"
     ]
    },
    {
     "name": "stdout",
     "output_type": "stream",
     "text": [
      "Initialised with 10 image(s) found.\n",
      "Output directory set to ./Bad/output."
     ]
    },
    {
     "name": "stderr",
     "output_type": "stream",
     "text": [
      "\n"
     ]
    }
   ],
   "source": [
    "dirName = 'Bad'\n",
    "path = './' + dirName + '/'\n",
    "final_path = './' + dirName + '_final/'\n",
    "\n",
    "if os.path.isdir(path):\n",
    "    shutil.rmtree(path)\n",
    "\n",
    "if os.path.isdir(final_path):\n",
    "    shutil.rmtree(final_path)\n",
    "\n",
    "os.mkdir(path)\n",
    "os.mkdir(final_path)\n",
    "\n",
    "\n",
    "takePicture(path)\n",
    "\n",
    "p = Augmentor.Pipeline(path)\n",
    "p.skew_top_bottom(probability = 1, magnitude=0.2)\n",
    "p.process()\n",
    "\n",
    "path_f = path + 'output_f/'; os.mkdir(path_f)\n",
    "path_h = path + 'output_h/'; os.mkdir(path_h)\n",
    "path_b = path + 'output_b/'; os.mkdir(path_b)\n",
    "\n",
    "\n",
    "file_list = os.listdir(path)\n",
    "file_list = [file for file in file_list if file.endswith('.jpg')]    \n",
    "\n",
    "for file in file_list:\n",
    "    img = cv2.imread(path+file)\n",
    "    img_h = horizontal_shift(img, 0.3)\n",
    "    img_f = cv2.flip(img, 1)\n",
    "    img_b = brightness(img, 0.5, 1.5)\n",
    "    cv2.imwrite(path_f + file + '_f.jpg', img_f)\n",
    "    cv2.imwrite(path_h + file + '_h.jpg', img_h)\n",
    "    cv2.imwrite(path_b + file + '_b.jpg', img_b)\n",
    "    \n",
    "path_list = [path, path+'output/', path_f, path_h, path_b]\n",
    "aug_list = ['original', 'perspective', 'flip', 'horizontal', 'brightness']\n",
    "\n",
    "if not os.path.isdir(final_path):\n",
    "    os.mkdir(final_path)\n",
    "for p, aug in zip(path_list, aug_list):\n",
    "    file_list = os.listdir(p)\n",
    "    file_list = [file for file in file_list if file.endswith('.jpg')]\n",
    "    cnt = 1\n",
    "    for file in file_list:\n",
    "        shutil.copy2(p+file, final_path+str(cnt)+'_'+aug+'.jpg')\n",
    "        cnt += 1"
   ]
  },
  {
   "cell_type": "code",
   "execution_count": null,
   "metadata": {},
   "outputs": [],
   "source": []
  }
 ],
 "metadata": {
  "kernelspec": {
   "display_name": "Python 3",
   "language": "python",
   "name": "python3"
  },
  "language_info": {
   "codemirror_mode": {
    "name": "ipython",
    "version": 3
   },
   "file_extension": ".py",
   "mimetype": "text/x-python",
   "name": "python",
   "nbconvert_exporter": "python",
   "pygments_lexer": "ipython3",
   "version": "3.8.5"
  }
 },
 "nbformat": 4,
 "nbformat_minor": 4
}
