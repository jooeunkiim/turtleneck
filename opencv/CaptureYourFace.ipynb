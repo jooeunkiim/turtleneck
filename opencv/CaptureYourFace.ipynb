{
 "cells": [
  {
   "cell_type": "code",
   "execution_count": 1,
   "metadata": {},
   "outputs": [],
   "source": [
    "# you must install openCV2 & cvlib\n",
    "# Installing is so easy!! Go googling!!\n",
    "\n",
    "import cv2\n",
    "import time\n",
    "import cvlib as cv\n",
    "import os"
   ]
  },
  {
   "cell_type": "code",
   "execution_count": 2,
   "metadata": {},
   "outputs": [],
   "source": [
    "# timeInterval : capture your face every \"timeInterval\" milli seconds\n",
    "# howMany : how many pictures you want\n",
    "# quitTime : program will stop if you are not in the screen for \"quitTime\" * \"timeInterval\" milli seconds\n",
    "# path : path for saving image files\n",
    "\n",
    "timeInterval = 1000\n",
    "cnt = 1; howMany = 3\n",
    "qCnt = 0; quitTime = 3\n",
    "path = './Pizza/'"
   ]
  },
  {
   "cell_type": "code",
   "execution_count": 3,
   "metadata": {},
   "outputs": [],
   "source": [
    "cap = cv2.VideoCapture(0)\n",
    "cap.set(cv2.CAP_PROP_FRAME_WIDTH, 320)\n",
    "cap.set(cv2.CAP_PROP_FRAME_HEIGHT, 240)\n",
    "if not os.path.isdir(path):\n",
    "    os.mkdir(path)\n",
    "while cnt <= howMany:\n",
    "    ret, image = cap.read()\n",
    "    faces, confidences = cv.detect_face(image)\n",
    "    if faces == []:\n",
    "        qCnt += 1\n",
    "        time.sleep(1)\n",
    "        if qCnt > quitTime:\n",
    "            print(\"You Out!\")\n",
    "            break\n",
    "        continue\n",
    "    cv2.imshow(\"asdf\", image)\n",
    "    cv2.imwrite(path+str(cnt)+'.jpg', image)\n",
    "    cv2.waitKey(1000)\n",
    "    cv2.destroyAllWindows()\n",
    "    cnt += 1\n",
    "cap.release()"
   ]
  }
 ],
 "metadata": {
  "kernelspec": {
   "display_name": "Python 3",
   "language": "python",
   "name": "python3"
  },
  "language_info": {
   "codemirror_mode": {
    "name": "ipython",
    "version": 3
   },
   "file_extension": ".py",
   "mimetype": "text/x-python",
   "name": "python",
   "nbconvert_exporter": "python",
   "pygments_lexer": "ipython3",
   "version": "3.8.5"
  }
 },
 "nbformat": 4,
 "nbformat_minor": 4
}
